{
 "cells": [
  {
   "cell_type": "code",
   "execution_count": 1,
   "id": "4c385926-7537-459b-94ec-815798da2e79",
   "metadata": {},
   "outputs": [],
   "source": [
    "from pydub import AudioSegment"
   ]
  },
  {
   "cell_type": "code",
   "execution_count": 4,
   "id": "9c9734a5-bb64-411b-a4eb-b07d93aee90a",
   "metadata": {},
   "outputs": [],
   "source": [
    "sound = AudioSegment.from_mp3(\"Ron Minis - Jazz in Motion 2022 at Montreux Jazz Festival Montre.mp3\")\n",
    "# sound._data is a bytestring\n",
    "raw_data = sound._data"
   ]
  },
  {
   "cell_type": "code",
   "execution_count": 7,
   "id": "09b5d206-5b14-4746-a712-9955ee735b5e",
   "metadata": {},
   "outputs": [
    {
     "name": "stderr",
     "output_type": "stream",
     "text": [
      "IOPub data rate exceeded.\n",
      "The Jupyter server will temporarily stop sending output\n",
      "to the client in order to avoid crashing it.\n",
      "To change this limit, set the config variable\n",
      "`--ServerApp.iopub_data_rate_limit`.\n",
      "\n",
      "Current values:\n",
      "ServerApp.iopub_data_rate_limit=1000000.0 (bytes/sec)\n",
      "ServerApp.rate_limit_window=3.0 (secs)\n",
      "\n"
     ]
    }
   ],
   "source": [
    "print(raw_data)"
   ]
  }
 ],
 "metadata": {
  "kernelspec": {
   "display_name": "Python 3 (ipykernel)",
   "language": "python",
   "name": "python3"
  },
  "language_info": {
   "codemirror_mode": {
    "name": "ipython",
    "version": 3
   },
   "file_extension": ".py",
   "mimetype": "text/x-python",
   "name": "python",
   "nbconvert_exporter": "python",
   "pygments_lexer": "ipython3",
   "version": "3.11.5"
  }
 },
 "nbformat": 4,
 "nbformat_minor": 5
}
